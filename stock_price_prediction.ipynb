{
  "nbformat": 4,
  "nbformat_minor": 0,
  "metadata": {
    "colab": {
      "name": "stock price prediction.ipynb",
      "provenance": [],
      "collapsed_sections": [],
      "authorship_tag": "ABX9TyOYz2jPEg9sX317as/Je2ec",
      "include_colab_link": true
    },
    "kernelspec": {
      "name": "python3",
      "display_name": "Python 3"
    },
    "language_info": {
      "name": "python"
    }
  },
  "cells": [
    {
      "cell_type": "markdown",
      "metadata": {
        "id": "view-in-github",
        "colab_type": "text"
      },
      "source": [
        "<a href=\"https://colab.research.google.com/github/samz5320/close-price-predictions/blob/main/stock_price_prediction.ipynb\" target=\"_parent\"><img src=\"https://colab.research.google.com/assets/colab-badge.svg\" alt=\"Open In Colab\"/></a>"
      ]
    },
    {
      "cell_type": "code",
      "metadata": {
        "id": "msTwIL30hFQM"
      },
      "source": [
        "import math\n",
        "import pandas as pd\n",
        "import numpy as np\n",
        "import pandas_datareader as web\n",
        "import matplotlib.pyplot as plt\n",
        "from sklearn.preprocessing import MinMaxScaler\n",
        "from keras.models import Sequential\n",
        "from keras.layers import Dense,LSTM\n",
        "plt.style.use('fivethirtyeight')"
      ],
      "execution_count": 20,
      "outputs": []
    },
    {
      "cell_type": "code",
      "metadata": {
        "id": "e6tX_0GUiWEz"
      },
      "source": [
        "df=web.DataReader(\"AAPL\",data_source='yahoo',start=\"2012-01-01\",end=\"2021-04-07\")"
      ],
      "execution_count": 50,
      "outputs": []
    },
    {
      "cell_type": "code",
      "metadata": {
        "colab": {
          "base_uri": "https://localhost:8080/",
          "height": 450
        },
        "id": "vu86ol1Hi8II",
        "outputId": "f3d57fa1-048e-45b8-b9bf-82ce5d890864"
      },
      "source": [
        "df"
      ],
      "execution_count": 51,
      "outputs": [
        {
          "output_type": "execute_result",
          "data": {
            "text/html": [
              "<div>\n",
              "<style scoped>\n",
              "    .dataframe tbody tr th:only-of-type {\n",
              "        vertical-align: middle;\n",
              "    }\n",
              "\n",
              "    .dataframe tbody tr th {\n",
              "        vertical-align: top;\n",
              "    }\n",
              "\n",
              "    .dataframe thead th {\n",
              "        text-align: right;\n",
              "    }\n",
              "</style>\n",
              "<table border=\"1\" class=\"dataframe\">\n",
              "  <thead>\n",
              "    <tr style=\"text-align: right;\">\n",
              "      <th></th>\n",
              "      <th>High</th>\n",
              "      <th>Low</th>\n",
              "      <th>Open</th>\n",
              "      <th>Close</th>\n",
              "      <th>Volume</th>\n",
              "      <th>Adj Close</th>\n",
              "    </tr>\n",
              "    <tr>\n",
              "      <th>Date</th>\n",
              "      <th></th>\n",
              "      <th></th>\n",
              "      <th></th>\n",
              "      <th></th>\n",
              "      <th></th>\n",
              "      <th></th>\n",
              "    </tr>\n",
              "  </thead>\n",
              "  <tbody>\n",
              "    <tr>\n",
              "      <th>2012-01-03</th>\n",
              "      <td>14.732143</td>\n",
              "      <td>14.607143</td>\n",
              "      <td>14.621429</td>\n",
              "      <td>14.686786</td>\n",
              "      <td>302220800.0</td>\n",
              "      <td>12.650659</td>\n",
              "    </tr>\n",
              "    <tr>\n",
              "      <th>2012-01-04</th>\n",
              "      <td>14.810000</td>\n",
              "      <td>14.617143</td>\n",
              "      <td>14.642857</td>\n",
              "      <td>14.765714</td>\n",
              "      <td>260022000.0</td>\n",
              "      <td>12.718646</td>\n",
              "    </tr>\n",
              "    <tr>\n",
              "      <th>2012-01-05</th>\n",
              "      <td>14.948214</td>\n",
              "      <td>14.738214</td>\n",
              "      <td>14.819643</td>\n",
              "      <td>14.929643</td>\n",
              "      <td>271269600.0</td>\n",
              "      <td>12.859850</td>\n",
              "    </tr>\n",
              "    <tr>\n",
              "      <th>2012-01-06</th>\n",
              "      <td>15.098214</td>\n",
              "      <td>14.972143</td>\n",
              "      <td>14.991786</td>\n",
              "      <td>15.085714</td>\n",
              "      <td>318292800.0</td>\n",
              "      <td>12.994284</td>\n",
              "    </tr>\n",
              "    <tr>\n",
              "      <th>2012-01-09</th>\n",
              "      <td>15.276786</td>\n",
              "      <td>15.048214</td>\n",
              "      <td>15.196429</td>\n",
              "      <td>15.061786</td>\n",
              "      <td>394024400.0</td>\n",
              "      <td>12.973674</td>\n",
              "    </tr>\n",
              "    <tr>\n",
              "      <th>...</th>\n",
              "      <td>...</td>\n",
              "      <td>...</td>\n",
              "      <td>...</td>\n",
              "      <td>...</td>\n",
              "      <td>...</td>\n",
              "      <td>...</td>\n",
              "    </tr>\n",
              "    <tr>\n",
              "      <th>2021-03-31</th>\n",
              "      <td>123.519997</td>\n",
              "      <td>121.150002</td>\n",
              "      <td>121.650002</td>\n",
              "      <td>122.150002</td>\n",
              "      <td>118323800.0</td>\n",
              "      <td>122.150002</td>\n",
              "    </tr>\n",
              "    <tr>\n",
              "      <th>2021-04-01</th>\n",
              "      <td>124.180000</td>\n",
              "      <td>122.489998</td>\n",
              "      <td>123.660004</td>\n",
              "      <td>123.000000</td>\n",
              "      <td>74957400.0</td>\n",
              "      <td>123.000000</td>\n",
              "    </tr>\n",
              "    <tr>\n",
              "      <th>2021-04-05</th>\n",
              "      <td>126.160004</td>\n",
              "      <td>123.070000</td>\n",
              "      <td>123.870003</td>\n",
              "      <td>125.900002</td>\n",
              "      <td>88651200.0</td>\n",
              "      <td>125.900002</td>\n",
              "    </tr>\n",
              "    <tr>\n",
              "      <th>2021-04-06</th>\n",
              "      <td>127.129997</td>\n",
              "      <td>125.650002</td>\n",
              "      <td>126.500000</td>\n",
              "      <td>126.209999</td>\n",
              "      <td>79463200.0</td>\n",
              "      <td>126.209999</td>\n",
              "    </tr>\n",
              "    <tr>\n",
              "      <th>2021-04-07</th>\n",
              "      <td>126.209999</td>\n",
              "      <td>125.139999</td>\n",
              "      <td>125.830002</td>\n",
              "      <td>126.061501</td>\n",
              "      <td>9519498.0</td>\n",
              "      <td>126.061501</td>\n",
              "    </tr>\n",
              "  </tbody>\n",
              "</table>\n",
              "<p>2330 rows × 6 columns</p>\n",
              "</div>"
            ],
            "text/plain": [
              "                  High         Low  ...       Volume   Adj Close\n",
              "Date                                ...                         \n",
              "2012-01-03   14.732143   14.607143  ...  302220800.0   12.650659\n",
              "2012-01-04   14.810000   14.617143  ...  260022000.0   12.718646\n",
              "2012-01-05   14.948214   14.738214  ...  271269600.0   12.859850\n",
              "2012-01-06   15.098214   14.972143  ...  318292800.0   12.994284\n",
              "2012-01-09   15.276786   15.048214  ...  394024400.0   12.973674\n",
              "...                ...         ...  ...          ...         ...\n",
              "2021-03-31  123.519997  121.150002  ...  118323800.0  122.150002\n",
              "2021-04-01  124.180000  122.489998  ...   74957400.0  123.000000\n",
              "2021-04-05  126.160004  123.070000  ...   88651200.0  125.900002\n",
              "2021-04-06  127.129997  125.650002  ...   79463200.0  126.209999\n",
              "2021-04-07  126.209999  125.139999  ...    9519498.0  126.061501\n",
              "\n",
              "[2330 rows x 6 columns]"
            ]
          },
          "metadata": {
            "tags": []
          },
          "execution_count": 51
        }
      ]
    },
    {
      "cell_type": "code",
      "metadata": {
        "colab": {
          "base_uri": "https://localhost:8080/"
        },
        "id": "QelCjgLuipPa",
        "outputId": "b422c125-21cc-4f0a-faea-74b5f649e4c6"
      },
      "source": [
        "df.shape"
      ],
      "execution_count": 52,
      "outputs": [
        {
          "output_type": "execute_result",
          "data": {
            "text/plain": [
              "(2330, 6)"
            ]
          },
          "metadata": {
            "tags": []
          },
          "execution_count": 52
        }
      ]
    },
    {
      "cell_type": "code",
      "metadata": {
        "colab": {
          "base_uri": "https://localhost:8080/",
          "height": 336
        },
        "id": "KKMMNXeRk8iN",
        "outputId": "285be4df-412b-4c26-88e9-d7b70c7064b6"
      },
      "source": [
        "plt.figure(figsize=(16,8))\n",
        "plt.title(\"close price history\")\n",
        "plt.plot(df.Close)\n",
        "plt.xlabel(\"Date\",fontsize=18)\n",
        "plt.ylabel(\"Close price USD($)\",fontsize=18)\n",
        "plt.show()"
      ],
      "execution_count": 53,
      "outputs": [
        {
          "output_type": "display_data",
          "data": {
            "image/png": "[encoded data removed]",
            "text/plain": [
              "<Figure size 1152x576 with 1 Axes>"
            ]
          },
          "metadata": {
            "tags": []
          }
        }
      ]
    },
    {
      "cell_type": "code",
      "metadata": {
        "colab": {
          "base_uri": "https://localhost:8080/"
        },
        "id": "qxC-t0MChic2",
        "outputId": "8b1e7868-b25e-4b7d-f036-2f9acf30d8f5"
      },
      "source": [
        "#creat a df with only close column\n",
        "data=df.filter([\"Close\"])\n",
        "#convert df to np\n",
        "dataset=data.values\n",
        "#get he number of rows to train the model on\n",
        "training_data_len=math.ceil(len(dataset)*.8)\n",
        "\n",
        "training_data_len"
      ],
      "execution_count": 54,
      "outputs": [
        {
          "output_type": "execute_result",
          "data": {
            "text/plain": [
              "1864"
            ]
          },
          "metadata": {
            "tags": []
          },
          "execution_count": 54
        }
      ]
    },
    {
      "cell_type": "code",
      "metadata": {
        "colab": {
          "base_uri": "https://localhost:8080/"
        },
        "id": "DdjIKMorheN-",
        "outputId": "de51d8f1-aa3b-4e78-9611-69c685da06f2"
      },
      "source": [
        "#scale the data\n",
        "scaler=MinMaxScaler(feature_range=(0,1))\n",
        "scaled_data=scaler.fit_transform(dataset)\n",
        "\n",
        "print(scaled_data.shape)\n",
        "scaled_data"
      ],
      "execution_count": 55,
      "outputs": [
        {
          "output_type": "stream",
          "text": [
            "(2330, 1)\n"
          ],
          "name": "stdout"
        },
        {
          "output_type": "execute_result",
          "data": {
            "text/plain": [
              "array([[0.00572147],\n",
              "       [0.00633231],\n",
              "       [0.00760099],\n",
              "       ...,\n",
              "       [0.86642158],\n",
              "       [0.86882071],\n",
              "       [0.86767145]])"
            ]
          },
          "metadata": {
            "tags": []
          },
          "execution_count": 55
        }
      ]
    },
    {
      "cell_type": "code",
      "metadata": {
        "colab": {
          "base_uri": "https://localhost:8080/"
        },
        "id": "Hfqo8NZsihSm",
        "outputId": "d94c0eea-c78e-41f2-a96a-24286f6c4f7d"
      },
      "source": [
        "#create the training data set\n",
        "#create the scaled trarining data set\n",
        "train_data=scaled_data[0:training_data_len, : ]\n",
        "#split into x_train y_train datsets\n",
        "x_train=[]\n",
        "y_train=[]\n",
        "\n",
        "for i in range(60,len(train_data)):\n",
        "  x_train.append(train_data[i-60:i,0])\n",
        "  y_train.append(train_data[i,0])\n",
        "  if i<= 60:\n",
        "    print(x_train)\n",
        "    print(y_train)\n",
        "    print()"
      ],
      "execution_count": 56,
      "outputs": [
        {
          "output_type": "stream",
          "text": [
            "[array([0.00572147, 0.00633231, 0.00760099, 0.00880885, 0.00862367,\n",
            "       0.00904103, 0.00885031, 0.00852969, 0.00809297, 0.00944457,\n",
            "       0.0106635 , 0.01028759, 0.00822841, 0.01019361, 0.00825882,\n",
            "       0.01551431, 0.01495322, 0.01568568, 0.01726944, 0.01822855,\n",
            "       0.01814839, 0.01785265, 0.01911303, 0.02029878, 0.02164209,\n",
            "       0.02381183, 0.02836966, 0.02843875, 0.03097611, 0.0328722 ,\n",
            "       0.02961346, 0.03086831, 0.03084343, 0.034362  , 0.03386171,\n",
            "       0.03478765, 0.03645157, 0.03737752, 0.04004478, 0.04198786,\n",
            "       0.04254895, 0.0427452 , 0.03942288, 0.03862131, 0.03874017,\n",
            "       0.04186349, 0.04274244, 0.04463025, 0.04908028, 0.05501734,\n",
            "       0.05390621, 0.05390897, 0.05820147, 0.05954478, 0.05858842,\n",
            "       0.05771501, 0.05680565, 0.05982669, 0.0618997 , 0.06276759])]\n",
            "[0.06062272301844436]\n",
            "\n"
          ],
          "name": "stdout"
        }
      ]
    },
    {
      "cell_type": "code",
      "metadata": {
        "id": "xZagPzdQlPUP"
      },
      "source": [
        "#convert to numpy array\n",
        "x_train,y_train=np.array(x_train),np.array(y_train)"
      ],
      "execution_count": 58,
      "outputs": []
    },
    {
      "cell_type": "code",
      "metadata": {
        "colab": {
          "base_uri": "https://localhost:8080/"
        },
        "id": "81VuNjAJlny2",
        "outputId": "11712c62-7a94-4dca-b434-2b4b5bd9cc2a"
      },
      "source": [
        "#reshape data\n",
        "x_train.shape\n",
        "x_train=np.reshape(x_train,(x_train.shape[0],x_train.shape[1],1))\n",
        "x_train.shape"
      ],
      "execution_count": 62,
      "outputs": [
        {
          "output_type": "execute_result",
          "data": {
            "text/plain": [
              "(1804, 60, 1)"
            ]
          },
          "metadata": {
            "tags": []
          },
          "execution_count": 62
        }
      ]
    },
    {
      "cell_type": "code",
      "metadata": {
        "id": "4hYts4xummAL"
      },
      "source": [
        "#build lstm model\n",
        "model=Sequential()\n",
        "model.add(LSTM(50,return_sequences=True,input_shape=(x_train.shape[1],1)))\n",
        "model.add(LSTM(50,return_sequences=False))\n",
        "model.add(Dense(25))\n",
        "model.add(Dense(1))"
      ],
      "execution_count": 64,
      "outputs": []
    },
    {
      "cell_type": "code",
      "metadata": {
        "id": "0Zgc1o9snIEX"
      },
      "source": [
        "#compile model\n",
        "model.compile(optimizer='adam',loss='mean_squared_error')"
      ],
      "execution_count": 68,
      "outputs": []
    },
    {
      "cell_type": "code",
      "metadata": {
        "colab": {
          "base_uri": "https://localhost:8080/"
        },
        "id": "ZVdOLWgvnSru",
        "outputId": "8e211911-9e6e-4389-a901-c3bff4b06855"
      },
      "source": [
        "#train model\n",
        "model.fit(x_train,y_train,batch_size=1,epochs=1)\n",
        "\n"
      ],
      "execution_count": 69,
      "outputs": [
        {
          "output_type": "stream",
          "text": [
            "1804/1804 [==============================] - 43s 22ms/step - loss: 6.5284e-04\n"
          ],
          "name": "stdout"
        },
        {
          "output_type": "execute_result",
          "data": {
            "text/plain": [
              "<tensorflow.python.keras.callbacks.History at 0x7f673e930550>"
            ]
          },
          "metadata": {
            "tags": []
          },
          "execution_count": 69
        }
      ]
    },
    {
      "cell_type": "code",
      "metadata": {
        "id": "dFUm_Kxqnrif"
      },
      "source": [
        "#create tets datset\n",
        "#create new array containing scaled values from index 1804\n",
        "test_data=scaled_data[training_data_len -60 :, :]\n",
        "#create the data sets x_test,y_test \n",
        "x_test=[]\n",
        "y_test=dataset[training_data_len:,:]\n",
        "for i in range(60,len(test_data)):\n",
        "  x_test.append(test_data[i-60:i,0])\n",
        "  "
      ],
      "execution_count": 84,
      "outputs": []
    },
    {
      "cell_type": "code",
      "metadata": {
        "id": "yjfItVyJn13t"
      },
      "source": [
        "#convert data into numpy\n",
        "x_test=np.array(x_test)\n"
      ],
      "execution_count": 85,
      "outputs": []
    },
    {
      "cell_type": "code",
      "metadata": {
        "id": "nYHx6GHwoxCw"
      },
      "source": [
        "#reshape data\n",
        "x_test=np.reshape(x_test,(x_test.shape[0],x_test.shape[1],1))"
      ],
      "execution_count": 86,
      "outputs": []
    },
    {
      "cell_type": "code",
      "metadata": {
        "id": "8j7csTP7pJPw"
      },
      "source": [
        "#get the models predicted price values\n",
        "predictions=model.predict(x_test)\n",
        "predictions=scaler.inverse_transform(predictions)"
      ],
      "execution_count": 87,
      "outputs": []
    },
    {
      "cell_type": "code",
      "metadata": {
        "colab": {
          "base_uri": "https://localhost:8080/"
        },
        "id": "FPzS42EIpkOG",
        "outputId": "cd67b145-9817-4def-a4d0-2a74379d454e"
      },
      "source": [
        "#evaluate model by getting the rmse\n",
        "rmse=np.sqrt(np.mean(predictions-y_test)**2)\n",
        "rmse"
      ],
      "execution_count": 88,
      "outputs": [
        {
          "output_type": "execute_result",
          "data": {
            "text/plain": [
              "4.499015382431096"
            ]
          },
          "metadata": {
            "tags": []
          },
          "execution_count": 88
        }
      ]
    },
    {
      "cell_type": "code",
      "metadata": {
        "colab": {
          "base_uri": "https://localhost:8080/",
          "height": 458
        },
        "id": "lnlnM4BPqB2G",
        "outputId": "e1f6239f-a0fe-4065-bdbb-fe1e95cb4311"
      },
      "source": [
        "#plot data\n",
        "train=data[:training_data_len]\n",
        "valid=data[training_data_len:]\n",
        "valid['predictions']=predictions\n",
        "#plot the data\n",
        "plt.figure(figsize=(16,8))\n",
        "plt.title(\"model\")\n",
        "plt.xlabel(\"Date\",fontsize=18)\n",
        "plt.ylabel(\"Close price USD ($)\",fontsize=18)\n",
        "plt.plot(train['Close'])\n",
        "plt.plot(valid[['Close','predictions']])\n",
        "plt.legend(['train','Val','predictions'],loc='lower right')\n",
        "plt.show()"
      ],
      "execution_count": 90,
      "outputs": [
        {
          "output_type": "stream",
          "text": [
            "/usr/local/lib/python3.7/dist-packages/ipykernel_launcher.py:4: SettingWithCopyWarning: \n",
            "A value is trying to be set on a copy of a slice from a DataFrame.\n",
            "Try using .loc[row_indexer,col_indexer] = value instead\n",
            "\n",
            "See the caveats in the documentation: https://pandas.pydata.org/pandas-docs/stable/user_guide/indexing.html#returning-a-view-versus-a-copy\n",
            "  after removing the cwd from sys.path.\n"
          ],
          "name": "stderr"
        },
        {
          "output_type": "display_data",
          "data": {
            "image/png": "[encoded data removed]",
            "text/plain": [
              "<Figure size 1152x576 with 1 Axes>"
            ]
          },
          "metadata": {
            "tags": []
          }
        }
      ]
    },
    {
      "cell_type": "code",
      "metadata": {
        "colab": {
          "base_uri": "https://localhost:8080/",
          "height": 450
        },
        "id": "PWoAQifnrQaB",
        "outputId": "920e65f3-a452-46f7-f818-02e0b586890c"
      },
      "source": [
        "#show actual and predicted prices\n",
        "valid"
      ],
      "execution_count": 91,
      "outputs": [
        {
          "output_type": "execute_result",
          "data": {
            "text/html": [
              "<div>\n",
              "<style scoped>\n",
              "    .dataframe tbody tr th:only-of-type {\n",
              "        vertical-align: middle;\n",
              "    }\n",
              "\n",
              "    .dataframe tbody tr th {\n",
              "        vertical-align: top;\n",
              "    }\n",
              "\n",
              "    .dataframe thead th {\n",
              "        text-align: right;\n",
              "    }\n",
              "</style>\n",
              "<table border=\"1\" class=\"dataframe\">\n",
              "  <thead>\n",
              "    <tr style=\"text-align: right;\">\n",
              "      <th></th>\n",
              "      <th>Close</th>\n",
              "      <th>predictions</th>\n",
              "    </tr>\n",
              "    <tr>\n",
              "      <th>Date</th>\n",
              "      <th></th>\n",
              "      <th></th>\n",
              "    </tr>\n",
              "  </thead>\n",
              "  <tbody>\n",
              "    <tr>\n",
              "      <th>2019-06-03</th>\n",
              "      <td>43.325001</td>\n",
              "      <td>45.036823</td>\n",
              "    </tr>\n",
              "    <tr>\n",
              "      <th>2019-06-04</th>\n",
              "      <td>44.910000</td>\n",
              "      <td>44.746910</td>\n",
              "    </tr>\n",
              "    <tr>\n",
              "      <th>2019-06-05</th>\n",
              "      <td>45.634998</td>\n",
              "      <td>44.628078</td>\n",
              "    </tr>\n",
              "    <tr>\n",
              "      <th>2019-06-06</th>\n",
              "      <td>46.305000</td>\n",
              "      <td>44.689186</td>\n",
              "    </tr>\n",
              "    <tr>\n",
              "      <th>2019-06-07</th>\n",
              "      <td>47.537498</td>\n",
              "      <td>44.913956</td>\n",
              "    </tr>\n",
              "    <tr>\n",
              "      <th>...</th>\n",
              "      <td>...</td>\n",
              "      <td>...</td>\n",
              "    </tr>\n",
              "    <tr>\n",
              "      <th>2021-03-31</th>\n",
              "      <td>122.150002</td>\n",
              "      <td>112.995247</td>\n",
              "    </tr>\n",
              "    <tr>\n",
              "      <th>2021-04-01</th>\n",
              "      <td>123.000000</td>\n",
              "      <td>112.961594</td>\n",
              "    </tr>\n",
              "    <tr>\n",
              "      <th>2021-04-05</th>\n",
              "      <td>125.900002</td>\n",
              "      <td>113.133423</td>\n",
              "    </tr>\n",
              "    <tr>\n",
              "      <th>2021-04-06</th>\n",
              "      <td>126.209999</td>\n",
              "      <td>113.704994</td>\n",
              "    </tr>\n",
              "    <tr>\n",
              "      <th>2021-04-07</th>\n",
              "      <td>126.061501</td>\n",
              "      <td>114.442268</td>\n",
              "    </tr>\n",
              "  </tbody>\n",
              "</table>\n",
              "<p>466 rows × 2 columns</p>\n",
              "</div>"
            ],
            "text/plain": [
              "                 Close  predictions\n",
              "Date                               \n",
              "2019-06-03   43.325001    45.036823\n",
              "2019-06-04   44.910000    44.746910\n",
              "2019-06-05   45.634998    44.628078\n",
              "2019-06-06   46.305000    44.689186\n",
              "2019-06-07   47.537498    44.913956\n",
              "...                ...          ...\n",
              "2021-03-31  122.150002   112.995247\n",
              "2021-04-01  123.000000   112.961594\n",
              "2021-04-05  125.900002   113.133423\n",
              "2021-04-06  126.209999   113.704994\n",
              "2021-04-07  126.061501   114.442268\n",
              "\n",
              "[466 rows x 2 columns]"
            ]
          },
          "metadata": {
            "tags": []
          },
          "execution_count": 91
        }
      ]
    },
    {
      "cell_type": "code",
      "metadata": {
        "colab": {
          "base_uri": "https://localhost:8080/"
        },
        "id": "gVnRIuVFrffq",
        "outputId": "ceaa5df7-7f1f-42be-a4fd-421e7655f7e8"
      },
      "source": [
        "#get quote\n",
        "apple_quote=web.DataReader(\"AAPL\",data_source='yahoo',start=('2012-01-01'),end=(\"2021-04-07\"))\n",
        "#create a new dataframe\n",
        "new_df=apple_quote.filter(['Close'])\n",
        "#get the last 60 day close price values and convert the dataframe to  array\n",
        "last_60_days=new_df[-60:].values\n",
        "#scale data to be values btw 0 and 1\n",
        "last_60_days_scaled=scaler.transform(last_60_days)\n",
        "X_test=[]\n",
        "#append past 60 days to X_test list\n",
        "X_test.append(last_60_days_scaled)\n",
        "#convert X_test to np array\n",
        "X_test=np.array(X_test)\n",
        "#reshape\n",
        "X_test=np.reshape(X_test,(X_test.shape[0],X_test.shape[1],1))\n",
        "#predicted scaled price\n",
        "pred_price=model.predict(X_test)\n",
        "#undo the scaling\n",
        "pred_price=scaler.inverse_transform(pred_price)\n",
        "print(pred_price)"
      ],
      "execution_count": 95,
      "outputs": [
        {
          "output_type": "stream",
          "text": [
            "[[115.24828]]\n"
          ],
          "name": "stdout"
        }
      ]
    },
    {
      "cell_type": "code",
      "metadata": {
        "colab": {
          "base_uri": "https://localhost:8080/"
        },
        "id": "-03194R2sOZk",
        "outputId": "416ff1b1-119c-4077-b913-80ed31bf0366"
      },
      "source": [
        "#get eh quote\n",
        "apple_quote=web.DataReader('AAPL',data_source='yahoo',start=(\"2021-04-07\"),end=('2021-04-07'))\n",
        "print(apple_quote['Close'])"
      ],
      "execution_count": 96,
      "outputs": [
        {
          "output_type": "stream",
          "text": [
            "Date\n",
            "2021-04-07    126.929901\n",
            "Name: Close, dtype: float64\n"
          ],
          "name": "stdout"
        }
      ]
    }
  ]
}